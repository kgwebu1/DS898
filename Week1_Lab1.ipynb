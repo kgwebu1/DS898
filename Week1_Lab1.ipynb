{
  "nbformat": 4,
  "nbformat_minor": 0,
  "metadata": {
    "colab": {
      "provenance": [],
      "collapsed_sections": [],
      "authorship_tag": "ABX9TyOOfnew5di2eD4c5xb0eBM2",
      "include_colab_link": true
    },
    "kernelspec": {
      "name": "python3",
      "display_name": "Python 3"
    },
    "language_info": {
      "name": "python"
    }
  },
  "cells": [
    {
      "cell_type": "markdown",
      "metadata": {
        "id": "view-in-github",
        "colab_type": "text"
      },
      "source": [
        "<a href=\"https://colab.research.google.com/github/kgwebu1/DS898/blob/main/Week1_Lab1.ipynb\" target=\"_parent\"><img src=\"https://colab.research.google.com/assets/colab-badge.svg\" alt=\"Open In Colab\"/></a>"
      ]
    },
    {
      "cell_type": "markdown",
      "source": [
        "#LAB 1.0"
      ],
      "metadata": {
        "id": "MGpgpeyrdYoN"
      }
    },
    {
      "cell_type": "markdown",
      "source": [
        "Go to https://colab.research.google.com/github/ryanorsinger/101-exercises/blob/main/101-exercises.ipynb\n",
        "To save your work to your Google Drive, go to File then \"Save Copy in Drive\".\n",
        "Your own work will now appear in your Google Drive account!"
      ],
      "metadata": {
        "id": "aGuDSjMZeLVm"
      }
    },
    {
      "cell_type": "markdown",
      "source": [
        "### 1. Write code to Display the following text to the screen:\n",
        "\n",
        " Welcome to my first Python Program"
      ],
      "metadata": {
        "id": "PKJxrd3DlIXN"
      }
    },
    {
      "cell_type": "code",
      "source": [
        "# Solution\n",
        "\n",
        "\n"
      ],
      "metadata": {
        "id": "Plx4YuIJdcUt"
      },
      "execution_count": null,
      "outputs": []
    },
    {
      "cell_type": "markdown",
      "source": [
        "### 2. Write a multi-line statement that displays the following\"\n",
        "\n",
        "\n",
        "```\n",
        "The Top 5 Best Cities in the United States,according to Travel + Leisure readers are: ['Charleston, South Carolina', 'New Orleans', 'Santa Fe, New Mexico', 'Savannah, Georgia', 'Honolulu']\n",
        "```\n",
        "\n",
        "\n"
      ],
      "metadata": {
        "id": "UDueZ2cXlZQ1"
      }
    },
    {
      "cell_type": "code",
      "source": [
        "# Solution\n",
        "\n"
      ],
      "metadata": {
        "id": "Bv66QmiBeten"
      },
      "execution_count": null,
      "outputs": []
    },
    {
      "cell_type": "markdown",
      "source": [
        "### 3. Write a program to display text below  verbatim. Where you see XXXXX subsitute it with the name of the individual who made the statement. Be sure to inlude all the quotes.\n",
        "\n",
        "\n",
        "``` \n",
        "According to  XXXXX ,'No data is clean, but most is useful.'\n",
        "\n",
        "With data collection, 'the sooner the better'is always the best answer -XXXXX\n",
        "\n",
        "XXXXX once said  \"Data is like garbage. You’d better know what you are going to do with it before you collect it\"\n",
        "\n",
        "If somebody tortures the data enough \"open or not\", it will confess anything. - XXXXX, former vice president, research director, Gartner\n",
        "```\n",
        "\n"
      ],
      "metadata": {
        "id": "m4epIf64jYme"
      }
    },
    {
      "cell_type": "code",
      "source": [
        "# Solution\n",
        "\n"
      ],
      "metadata": {
        "colab": {
          "base_uri": "https://localhost:8080/"
        },
        "id": "5jd5G2LNgmY5",
        "outputId": "d0eed174-6a14-4b90-d9a5-3d83cf8430d4"
      },
      "execution_count": null,
      "outputs": [
        {
          "output_type": "stream",
          "name": "stdout",
          "text": [
            "'No data is clean, but most is useful.'\n",
            "With data collection, 'the sooner the better'is always the best answer\n",
            "\"Data is like garbage. You’d better know what you are going to do with it before you collect it\"\n",
            "If somebody tortures the data enough \"open or not\", it will confess anything.\n"
          ]
        }
      ]
    }
  ]
}